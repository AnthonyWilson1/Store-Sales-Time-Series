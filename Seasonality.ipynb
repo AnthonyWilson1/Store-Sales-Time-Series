{
 "cells": [
  {
   "cell_type": "code",
   "execution_count": 123,
   "id": "e93ac646",
   "metadata": {},
   "outputs": [],
   "source": [
    "import pandas as pd\n",
    "import matplotlib.pyplot as plt\n",
    "plt.rcParams[\"figure.figsize\"]=15,15\n",
    "import numpy as np\n",
    "import matplotlib.ticker as plticker\n",
    "from statistics import mean"
   ]
  },
  {
   "cell_type": "code",
   "execution_count": 65,
   "id": "fa5509bc",
   "metadata": {},
   "outputs": [],
   "source": [
    "from sklearn.linear_model import LinearRegression\n",
    "from sklearn.metrics import mean_squared_error"
   ]
  },
  {
   "cell_type": "markdown",
   "id": "9494a49d",
   "metadata": {},
   "source": [
    "Find the differnce between dates of the training and the test data"
   ]
  },
  {
   "cell_type": "code",
   "execution_count": 170,
   "id": "b12a5d20",
   "metadata": {},
   "outputs": [],
   "source": [
    "test = pd.read_csv('./store-sales-time-series-forecasting/test.csv')\n",
    "train = pd.read_csv('./store-sales-time-series-forecasting/train.csv')"
   ]
  },
  {
   "cell_type": "code",
   "execution_count": 171,
   "id": "13da1b5f",
   "metadata": {},
   "outputs": [
    {
     "data": {
      "text/plain": [
       "'2017-08-31'"
      ]
     },
     "execution_count": 171,
     "metadata": {},
     "output_type": "execute_result"
    }
   ],
   "source": [
    "test.iloc[-1,1]"
   ]
  },
  {
   "cell_type": "code",
   "execution_count": 172,
   "id": "0cc72c8e",
   "metadata": {},
   "outputs": [
    {
     "data": {
      "text/plain": [
       "'2017-08-15'"
      ]
     },
     "execution_count": 172,
     "metadata": {},
     "output_type": "execute_result"
    }
   ],
   "source": [
    "train.iloc[-1,1]"
   ]
  },
  {
   "cell_type": "code",
   "execution_count": 53,
   "id": "aed9b8b3",
   "metadata": {},
   "outputs": [],
   "source": [
    "train_last = pd.to_datetime(train.iloc[-1,1])\n",
    "test_last = pd.to_datetime(test.iloc[-1,1])\n",
    "days = test_last.day-train_last.day"
   ]
  },
  {
   "cell_type": "code",
   "execution_count": 54,
   "id": "a2cbd8ff",
   "metadata": {},
   "outputs": [
    {
     "name": "stdout",
     "output_type": "stream",
     "text": [
      "16\n"
     ]
    }
   ],
   "source": [
    "print(days)"
   ]
  },
  {
   "cell_type": "markdown",
   "id": "5ea83015",
   "metadata": {},
   "source": [
    "Implement linear model with updated dates"
   ]
  },
  {
   "cell_type": "code",
   "execution_count": 55,
   "id": "1389ac76",
   "metadata": {},
   "outputs": [],
   "source": [
    "categories = train['family']\n",
    "categories = categories.drop_duplicates()\n",
    "categories = categories.values.tolist()\n",
    "\n",
    "store_nbr = train['store_nbr']\n",
    "store_nbr = store_nbr.drop_duplicates()\n",
    "store_nbr = store_nbr.values.tolist()"
   ]
  },
  {
   "cell_type": "code",
   "execution_count": 179,
   "id": "4c763e1e",
   "metadata": {},
   "outputs": [
    {
     "name": "stdout",
     "output_type": "stream",
     "text": [
      "Store # 1\n",
      "Store # 10\n",
      "Store # 11\n",
      "Store # 12\n",
      "Store # 13\n",
      "Store # 14\n",
      "Store # 15\n",
      "Store # 16\n",
      "Store # 17\n",
      "Store # 18\n",
      "Store # 19\n",
      "Store # 2\n",
      "Store # 20\n",
      "Store # 21\n",
      "Store # 22\n",
      "Store # 23\n",
      "Store # 24\n",
      "Store # 25\n",
      "Store # 26\n",
      "Store # 27\n",
      "Store # 28\n",
      "Store # 29\n",
      "Store # 3\n",
      "Store # 30\n",
      "Store # 31\n",
      "Store # 32\n",
      "Store # 33\n",
      "Store # 34\n",
      "Store # 35\n",
      "Store # 36\n",
      "Store # 37\n",
      "Store # 38\n",
      "Store # 39\n",
      "Store # 4\n",
      "Store # 40\n",
      "Store # 41\n",
      "Store # 42\n",
      "Store # 43\n",
      "Store # 44\n",
      "Store # 45\n",
      "Store # 46\n",
      "Store # 47\n",
      "Store # 48\n",
      "Store # 49\n",
      "Store # 5\n",
      "Store # 50\n",
      "Store # 51\n",
      "Store # 52\n",
      "Store # 53\n",
      "Store # 54\n",
      "Store # 6\n",
      "Store # 7\n",
      "Store # 8\n",
      "Store # 9\n"
     ]
    }
   ],
   "source": [
    "test['sales'] = 0\n",
    "test_df = []\n",
    "\n",
    "\n",
    "for i in store_nbr:\n",
    "    train_number = train[train['store_nbr'] == i] \n",
    "    test_number = test[test['store_nbr'] == i]\n",
    "    print(f\"Store # {i}\")\n",
    "    for g in categories:\n",
    "        \n",
    "        train_number = train_number[train_number[\"family\"] == g]\n",
    "        train_number['Time'] = np.arange(len(train_number.index))\n",
    "        \n",
    "        \n",
    "        model_train = pd.DataFrame()\n",
    "        model_train[\"date\"] = train_number[\"date\"]\n",
    "        model_train[\"sales\"] = train_number[\"sales\"]\n",
    "        model_train[\"Time\"] = train_number[\"Time\"]\n",
    "        \n",
    "    \n",
    "        \n",
    "        #Training data\n",
    "        X = model_train.loc[:, ['Time']] #features\n",
    "        y = model_train.loc[:, ['sales']]#target\n",
    "\n",
    "        #Train the model\n",
    "        model = LinearRegression()\n",
    "\n",
    "        model.fit(X,y)\n",
    "       \n",
    "        test_number = test[test['store_nbr'] == i]\n",
    "        \n",
    "        test_number = test_number[test_number[\"family\"] == g]\n",
    "        \n",
    "        \n",
    "        test_range = np.array([range(len(train_number)+days,len(train_number)+days+len(test_number))])\n",
    "        #print(test_range)\n",
    "        test_range = test_range.transpose()\n",
    "        \n",
    "        y_pred = model.predict(test_range)\n",
    "        \n",
    "        test_number['sales']= y_pred\n",
    "        \n",
    "        test_df.append(test_number)\n",
    "\n",
    "        model_1d = [x[0] for x in model.predict(X)]\n",
    "        \n",
    "        train_number = train[train['store_nbr'] == i]\n",
    "        test_number = test[test['store_nbr'] == i]\n",
    "\n",
    "        #Store the fitted values as a time series with the same time index as the training data\n",
    "        y_pred = pd.Series(model_1d, index=X.index)\n",
    "\n",
    "        #ax = y.plot(alpha=0.5)\n",
    "        #ax = y_pred.plot(ax=ax, linewidth=3)\n",
    "        #ax.set_title(f'Time Plot of Total {g} Sales Store {i}')\n",
    "        \n",
    "    \n",
    "    "
   ]
  },
  {
   "cell_type": "code",
   "execution_count": 79,
   "id": "4e4c60f8",
   "metadata": {},
   "outputs": [],
   "source": [
    "result = pd.concat(test_df)\n",
    "result = result.sort_index()\n",
    "result_sub = pd.DataFrame()\n",
    "\n",
    "result_sub['id'] = result['id']\n",
    "result_sub['sales'] = result['sales']\n",
    "\n",
    "result_sub.to_csv('resultssub5.csv',index = False)"
   ]
  },
  {
   "cell_type": "markdown",
   "id": "4d877e3d",
   "metadata": {},
   "source": [
    "Worse Score"
   ]
  },
  {
   "cell_type": "markdown",
   "id": "6ff1dcab",
   "metadata": {},
   "source": [
    "Seasonality"
   ]
  },
  {
   "cell_type": "markdown",
   "id": "dc625f88",
   "metadata": {},
   "source": [
    "Moving Averages to Smooth out the data"
   ]
  },
  {
   "cell_type": "code",
   "execution_count": 82,
   "id": "00dfb3db",
   "metadata": {},
   "outputs": [
    {
     "data": {
      "text/html": [
       "<div>\n",
       "<style scoped>\n",
       "    .dataframe tbody tr th:only-of-type {\n",
       "        vertical-align: middle;\n",
       "    }\n",
       "\n",
       "    .dataframe tbody tr th {\n",
       "        vertical-align: top;\n",
       "    }\n",
       "\n",
       "    .dataframe thead th {\n",
       "        text-align: right;\n",
       "    }\n",
       "</style>\n",
       "<table border=\"1\" class=\"dataframe\">\n",
       "  <thead>\n",
       "    <tr style=\"text-align: right;\">\n",
       "      <th></th>\n",
       "      <th>id</th>\n",
       "      <th>date</th>\n",
       "      <th>store_nbr</th>\n",
       "      <th>family</th>\n",
       "      <th>sales</th>\n",
       "      <th>onpromotion</th>\n",
       "    </tr>\n",
       "  </thead>\n",
       "  <tbody>\n",
       "    <tr>\n",
       "      <th>0</th>\n",
       "      <td>0</td>\n",
       "      <td>2013-01-01</td>\n",
       "      <td>1</td>\n",
       "      <td>AUTOMOTIVE</td>\n",
       "      <td>0.0</td>\n",
       "      <td>0</td>\n",
       "    </tr>\n",
       "    <tr>\n",
       "      <th>1</th>\n",
       "      <td>1</td>\n",
       "      <td>2013-01-01</td>\n",
       "      <td>1</td>\n",
       "      <td>BABY CARE</td>\n",
       "      <td>0.0</td>\n",
       "      <td>0</td>\n",
       "    </tr>\n",
       "    <tr>\n",
       "      <th>2</th>\n",
       "      <td>2</td>\n",
       "      <td>2013-01-01</td>\n",
       "      <td>1</td>\n",
       "      <td>BEAUTY</td>\n",
       "      <td>0.0</td>\n",
       "      <td>0</td>\n",
       "    </tr>\n",
       "    <tr>\n",
       "      <th>3</th>\n",
       "      <td>3</td>\n",
       "      <td>2013-01-01</td>\n",
       "      <td>1</td>\n",
       "      <td>BEVERAGES</td>\n",
       "      <td>0.0</td>\n",
       "      <td>0</td>\n",
       "    </tr>\n",
       "    <tr>\n",
       "      <th>4</th>\n",
       "      <td>4</td>\n",
       "      <td>2013-01-01</td>\n",
       "      <td>1</td>\n",
       "      <td>BOOKS</td>\n",
       "      <td>0.0</td>\n",
       "      <td>0</td>\n",
       "    </tr>\n",
       "  </tbody>\n",
       "</table>\n",
       "</div>"
      ],
      "text/plain": [
       "   id        date  store_nbr      family  sales  onpromotion\n",
       "0   0  2013-01-01          1  AUTOMOTIVE    0.0            0\n",
       "1   1  2013-01-01          1   BABY CARE    0.0            0\n",
       "2   2  2013-01-01          1      BEAUTY    0.0            0\n",
       "3   3  2013-01-01          1   BEVERAGES    0.0            0\n",
       "4   4  2013-01-01          1       BOOKS    0.0            0"
      ]
     },
     "execution_count": 82,
     "metadata": {},
     "output_type": "execute_result"
    }
   ],
   "source": [
    "train.head()"
   ]
  },
  {
   "cell_type": "code",
   "execution_count": 178,
   "id": "d445bdf3",
   "metadata": {},
   "outputs": [],
   "source": [
    "categories = train['family']\n",
    "categories = categories.drop_duplicates()\n",
    "categories = categories.values.tolist()\n",
    "\n",
    "store_nbr = train['store_nbr']\n",
    "store_nbr = store_nbr.drop_duplicates()\n",
    "store_nbr = store_nbr.values.tolist()\n",
    "\n",
    "for i in store_nbr[:1]:\n",
    "    train_number = train[train['store_nbr'] == i]\n",
    "    for g in categories:\n",
    "        \n",
    "        train_number = train_number[train_number[\"family\"] == g]\n",
    "        train_number['time'] = np.arange(len(train_number.index))\n",
    "        \n",
    "        if train_number.empty:\n",
    "            print(train_number)\n",
    "        else:       \n",
    "            #split into chunks then graph\n",
    "            sales_chunks = np.array_split(train_number[\"sales\"],29)\n",
    "            avg_chunks = [mean(sale) for sale in sales_chunks]\n",
    "            index_chunks = [i for i in range(0,1740,60)]\n",
    "\n",
    "            sales = pd.DataFrame()\n",
    "            sales[\"index\"] = index_chunks\n",
    "            sales[\"days\"] = avg_chunks\n",
    "\n",
    "            #graph\n",
    "            #ax2 = sales.plot(x=\"index\", y=\"days\")\n",
    "            #ax2.set_title(f'Time Plot of Total {g} Sales Store {i}')\n",
    "            #loc = plticker.MultipleLocator(base=60)\n",
    "            #ax2.xaxis.set_major_locator(loc)\n",
    "            \n",
    "        train_number = train[train['store_nbr'] == i] \n",
    "        "
   ]
  },
  {
   "cell_type": "code",
   "execution_count": null,
   "id": "6c9af180",
   "metadata": {},
   "outputs": [],
   "source": []
  }
 ],
 "metadata": {
  "kernelspec": {
   "display_name": "Python 3 (ipykernel)",
   "language": "python",
   "name": "python3"
  },
  "language_info": {
   "codemirror_mode": {
    "name": "ipython",
    "version": 3
   },
   "file_extension": ".py",
   "mimetype": "text/x-python",
   "name": "python",
   "nbconvert_exporter": "python",
   "pygments_lexer": "ipython3",
   "version": "3.9.7"
  }
 },
 "nbformat": 4,
 "nbformat_minor": 5
}
